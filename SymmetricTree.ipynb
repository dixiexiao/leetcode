{
 "cells": [
  {
   "cell_type": "markdown",
   "metadata": {},
   "source": [
    "# Symmetric Tree"
   ]
  },
  {
   "cell_type": "markdown",
   "metadata": {},
   "source": [
    "Given a binary tree, check whether it is a mirror of itself (ie, symmetric around its center).\n",
    "\n",
    "For example, this binary tree [1,2,2,3,4,4,3] is symmetric:\n",
    "\n",
    "     1\n",
    "    / \\\n",
    "   2   2\n",
    "   \n",
    "  / \\ / \\\n",
    "\n",
    "3  4 4  3"
   ]
  },
  {
   "cell_type": "code",
   "execution_count": null,
   "metadata": {},
   "outputs": [],
   "source": [
    "class TreeNode(object):\n",
    "    def __init__(self,x):\n",
    "        self.val=x\n",
    "        self.left=None\n",
    "        self.right=None\n",
    "        \n",
    "        \n",
    "        \n",
    "    def isSymmetric(root):\n",
    "    \"\"\"\n",
    "    :type root: TreeNode\n",
    "    :rtype: boolean\n",
    "    \"\"\"\n",
    "        if not root:\n",
    "            return True\n",
    "        return isMirror(root.left,root.right)\n",
    "    \n",
    "    \n",
    "    def isMirror(self,left_node,right_node):\n",
    "        if not left_node and not right_node:\n",
    "            return True\n",
    "        if not left_node or not right_node:\n",
    "            return False\n",
    "        if left_node.val!=right_node.val:\n",
    "            return False\n",
    "        return self.isMirror(left_node.left,right_node.right) and self.isMirror(left_node.right,right_node.left)\n",
    "    "
   ]
  }
 ],
 "metadata": {
  "kernelspec": {
   "display_name": "Python 3",
   "language": "python",
   "name": "python3"
  },
  "language_info": {
   "codemirror_mode": {
    "name": "ipython",
    "version": 3
   },
   "file_extension": ".py",
   "mimetype": "text/x-python",
   "name": "python",
   "nbconvert_exporter": "python",
   "pygments_lexer": "ipython3",
   "version": "3.7.5"
  }
 },
 "nbformat": 4,
 "nbformat_minor": 2
}
