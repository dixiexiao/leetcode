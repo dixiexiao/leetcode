{
 "cells": [
  {
   "cell_type": "markdown",
   "metadata": {},
   "source": [
    "# Longest Common Prefix"
   ]
  },
  {
   "cell_type": "markdown",
   "metadata": {},
   "source": [
    "Write a function to find the longest common prefix string amongst an array of strings.\n",
    "\n",
    "If there is no common prefix, return an empty string \"\".\n",
    "\n",
    "Example 1:\n",
    "\n",
    "Input: [\"flower\",\"flow\",\"flight\"]\n",
    "\n",
    "Output: \"fl\"\n",
    "\n",
    "    \n",
    "Example 2:\n",
    "\n",
    "Input: [\"dog\",\"racecar\",\"car\"]\n",
    "\n",
    "    Output: \"\"\n",
    "Explanation: There is no common prefix among the input strings."
   ]
  },
  {
   "cell_type": "code",
   "execution_count": 9,
   "metadata": {},
   "outputs": [],
   "source": [
    "def longestCommonPrefix(strs):\n",
    "    lcp=\"\"\n",
    "    slen=len(strs)\n",
    "    \n",
    "    \n",
    "    if not strs:\n",
    "        return \"\"\n",
    "    \n",
    "    for i in range(len(strs[0])):\n",
    "        pcount=0\n",
    "        for j in range(1,slen):\n",
    "            if i>=len(strs[j]):\n",
    "                break\n",
    "            elif strs[0][i]==strs[j][i]:\n",
    "                pcount+=1\n",
    "        \n",
    "        if pcount==slen-1:\n",
    "            lcp+=strs[0][i]\n",
    "        else:\n",
    "            break\n",
    "    return lcp\n",
    "                "
   ]
  },
  {
   "cell_type": "code",
   "execution_count": 10,
   "metadata": {},
   "outputs": [
    {
     "name": "stdout",
     "output_type": "stream",
     "text": [
      "fl\n"
     ]
    }
   ],
   "source": [
    "strs=[\"flower\",\"flow\",\"flight\"]\n",
    "print(longestCommonPrefix(strs))"
   ]
  },
  {
   "cell_type": "code",
   "execution_count": null,
   "metadata": {},
   "outputs": [],
   "source": []
  }
 ],
 "metadata": {
  "kernelspec": {
   "display_name": "Python 3",
   "language": "python",
   "name": "python3"
  },
  "language_info": {
   "codemirror_mode": {
    "name": "ipython",
    "version": 3
   },
   "file_extension": ".py",
   "mimetype": "text/x-python",
   "name": "python",
   "nbconvert_exporter": "python",
   "pygments_lexer": "ipython3",
   "version": "3.7.5"
  }
 },
 "nbformat": 4,
 "nbformat_minor": 2
}
