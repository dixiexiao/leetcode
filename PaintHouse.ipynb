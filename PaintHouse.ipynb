{
 "cells": [
  {
   "cell_type": "markdown",
   "metadata": {},
   "source": [
    "# Paint House"
   ]
  },
  {
   "cell_type": "markdown",
   "metadata": {},
   "source": [
    "There are a row of n houses, each house can be painted with one of the three colors: red, blue or green. The cost of painting each house with a certain color is different. You have to paint all the houses such that no two adjacent houses have the same color.\n",
    "\n",
    "The cost of painting each house with a certain color is represented by a n x 3 cost matrix. For example, costs[0][0] is the cost of painting house 0 with color red; costs[1][2] is the cost of painting house 1 with color green, and so on… Find the minimum cost to paint all houses.\n",
    "\n",
    "Note: All costs are positive integers.\n",
    "\n",
    "Example:\n",
    "\n",
    "Input: [[17,2,17],[16,16,5],[14,3,19]]\n",
    "Output: 10\n",
    "Explanation: Paint house 0 into blue, paint house 1 into green, paint house 2 into blue.\n",
    "             Minimum cost: 2 + 5 + 3 = 10.\n"
   ]
  },
  {
   "cell_type": "code",
   "execution_count": 2,
   "metadata": {},
   "outputs": [],
   "source": [
    "#dp[i][3]\n",
    "\n",
    "def minCost(costs):\n",
    "    m=len(costs)\n",
    "    if m==0:\n",
    "        return 0\n",
    "    elif m==1:\n",
    "        return min(costs[0][0], costs[0][1],costs[0][2])\n",
    "\n",
    "    else:\n",
    "        \n",
    "        dp = [[0 for i in range(3)] for j in range(m)]\n",
    "        dp[0] = costs[0]\n",
    "        \n",
    "        for i in range(1,m):\n",
    "            dp[i][0] = min(dp[i-1][1],dp[i-1][2]) + costs[i][0]\n",
    "            dp[i][1] = min(dp[i-1][0],dp[i-1][2]) + costs[i][1]\n",
    "            dp[i][2] = min(dp[i-1][0],dp[i-1][1]) + costs[i][2]\n",
    "        return min(dp[m-1][0], dp[m-1][1], dp[m-1][2])"
   ]
  },
  {
   "cell_type": "code",
   "execution_count": 3,
   "metadata": {},
   "outputs": [
    {
     "data": {
      "text/plain": [
       "10"
      ]
     },
     "execution_count": 3,
     "metadata": {},
     "output_type": "execute_result"
    }
   ],
   "source": [
    "costs= [[17,2,17],[16,16,5],[14,3,19]] \n",
    "minCost(costs)"
   ]
  },
  {
   "cell_type": "code",
   "execution_count": null,
   "metadata": {},
   "outputs": [],
   "source": []
  }
 ],
 "metadata": {
  "kernelspec": {
   "display_name": "Python 3",
   "language": "python",
   "name": "python3"
  },
  "language_info": {
   "codemirror_mode": {
    "name": "ipython",
    "version": 3
   },
   "file_extension": ".py",
   "mimetype": "text/x-python",
   "name": "python",
   "nbconvert_exporter": "python",
   "pygments_lexer": "ipython3",
   "version": "3.7.5"
  }
 },
 "nbformat": 4,
 "nbformat_minor": 2
}
