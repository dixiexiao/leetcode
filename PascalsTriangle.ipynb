{
 "cells": [
  {
   "cell_type": "markdown",
   "metadata": {},
   "source": [
    "# Pascal's Triangle"
   ]
  },
  {
   "cell_type": "markdown",
   "metadata": {},
   "source": [
    "In Pascal's triangle, each number is the sum of the two numbers directly above it.\n",
    "\n",
    "Input: 5\n",
    "\n",
    "Output:\n",
    "[\n",
    "     [1],\n",
    "\n",
    "[1,1],\n",
    "\n",
    "[1,2,1],\n",
    "\n",
    "[1,3,3,1],\n",
    "\n",
    "[1,4,6,4,1]\n",
    "]"
   ]
  },
  {
   "cell_type": "code",
   "execution_count": 1,
   "metadata": {},
   "outputs": [],
   "source": [
    "def pascal(numRows):\n",
    "    arr = []\n",
    "    for i in range(numRows):\n",
    "        arr.append([])\n",
    "        for j in range(i + 1):\n",
    "            if j == 0 or j == i:\n",
    "                arr[i].append(1)\n",
    "            else:\n",
    "                arr[i].append(arr[i - 1][j - 1] + arr[i - 1][j])\n",
    "    return arr\n"
   ]
  },
  {
   "cell_type": "code",
   "execution_count": 2,
   "metadata": {},
   "outputs": [
    {
     "data": {
      "text/plain": [
       "[[1], [1, 1], [1, 2, 1], [1, 3, 3, 1], [1, 4, 6, 4, 1]]"
      ]
     },
     "execution_count": 2,
     "metadata": {},
     "output_type": "execute_result"
    }
   ],
   "source": [
    "pascal(5)"
   ]
  },
  {
   "cell_type": "code",
   "execution_count": null,
   "metadata": {},
   "outputs": [],
   "source": []
  }
 ],
 "metadata": {
  "kernelspec": {
   "display_name": "Python 3",
   "language": "python",
   "name": "python3"
  },
  "language_info": {
   "codemirror_mode": {
    "name": "ipython",
    "version": 3
   },
   "file_extension": ".py",
   "mimetype": "text/x-python",
   "name": "python",
   "nbconvert_exporter": "python",
   "pygments_lexer": "ipython3",
   "version": "3.7.5"
  }
 },
 "nbformat": 4,
 "nbformat_minor": 2
}
