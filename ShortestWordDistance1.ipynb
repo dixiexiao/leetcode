{
 "cells": [
  {
   "cell_type": "markdown",
   "metadata": {},
   "source": [
    "# Shortest Word Distance 1"
   ]
  },
  {
   "cell_type": "markdown",
   "metadata": {},
   "source": [
    "Given a list of words and two words word1 and word2, return the shortest distance between these two words in the list.\n",
    "\n",
    "For example, Assume that words = [\"practice\", \"makes\", \"perfect\", \"coding\", \"makes\"].\n",
    "\n",
    "Given word1 = \"coding\", word2 = \"practice\", return 3. \n",
    "Given word1 = \"makes\", word2 = \"coding\", return 1."
   ]
  },
  {
   "cell_type": "code",
   "execution_count": 4,
   "metadata": {},
   "outputs": [],
   "source": [
    "def shortestDistance(words, word1, word2):\n",
    "\n",
    "    \"\"\"\n",
    "    Algorithm:\n",
    "    1. Declare index idx1(-1) and idx2(-1) to store current index that match word1 and word2\n",
    "    2. Declare minDiff(sys.max) to store minimum difference from idx1 and idx2\n",
    "    3. Update minDiff = min(minDiff, abs(idx1 - idx2))\n",
    "    4. Return minDiff\n",
    "    T: O(N + M)\n",
    "    S: O(1)\n",
    "    \"\"\"\n",
    "    if not words or not word1 or not word2:\n",
    "        return -1\n",
    "    \n",
    "    idx1=-1\n",
    "    idx2=-1\n",
    "    minDiff = float('inf')\n",
    "    \n",
    "    for i in range(len(words)):\n",
    "        if word1==words[i]:\n",
    "            idx1=i\n",
    "        \n",
    "        if words[i] == word2:\n",
    "            idx2 = i\n",
    "        \n",
    "        if idx1 != -1 and idx2 != -1:\n",
    "            minDiff = min(minDiff, abs(idx1 - idx2))\n",
    "\n",
    "    return minDiff "
   ]
  },
  {
   "cell_type": "code",
   "execution_count": 5,
   "metadata": {},
   "outputs": [
    {
     "data": {
      "text/plain": [
       "3"
      ]
     },
     "execution_count": 5,
     "metadata": {},
     "output_type": "execute_result"
    }
   ],
   "source": [
    "words = [\"practice\", \"makes\", \"perfect\", \"coding\", \"makes\"]\n",
    "word1 = \"coding\"\n",
    "word2 = \"practice\"\n",
    "shortestDistance(words, word1, word2)"
   ]
  },
  {
   "cell_type": "code",
   "execution_count": 6,
   "metadata": {},
   "outputs": [
    {
     "data": {
      "text/plain": [
       "1"
      ]
     },
     "execution_count": 6,
     "metadata": {},
     "output_type": "execute_result"
    }
   ],
   "source": [
    "words = [\"practice\", \"makes\", \"perfect\", \"coding\", \"makes\"]\n",
    "word1 = \"makes\"\n",
    "word2 = \"coding\"\n",
    "shortestDistance(words, word1, word2)"
   ]
  },
  {
   "cell_type": "code",
   "execution_count": null,
   "metadata": {},
   "outputs": [],
   "source": []
  }
 ],
 "metadata": {
  "kernelspec": {
   "display_name": "Python 3",
   "language": "python",
   "name": "python3"
  },
  "language_info": {
   "codemirror_mode": {
    "name": "ipython",
    "version": 3
   },
   "file_extension": ".py",
   "mimetype": "text/x-python",
   "name": "python",
   "nbconvert_exporter": "python",
   "pygments_lexer": "ipython3",
   "version": "3.7.5"
  }
 },
 "nbformat": 4,
 "nbformat_minor": 2
}
