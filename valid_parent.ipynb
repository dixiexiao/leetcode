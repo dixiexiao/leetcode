{
 "cells": [
  {
   "cell_type": "markdown",
   "metadata": {},
   "source": [
    "# Valid Parentheses"
   ]
  },
  {
   "cell_type": "markdown",
   "metadata": {},
   "source": [
    "Given a string containing just the characters '(', ')', '{', '}', '['  and ']', determine if the input string is valid.\n",
    "\n",
    "An input string is valid if:\n",
    "\n",
    "Open brackets must be closed by the same type of brackets.\n",
    "Open brackets must be closed in the correct order.\n",
    "Note that an empty string is also considered valid."
   ]
  },
  {
   "cell_type": "code",
   "execution_count": 6,
   "metadata": {},
   "outputs": [],
   "source": [
    "def isValid(s):\n",
    "        stack = []\n",
    "        mapping = {\n",
    "            '(': ')',\n",
    "            '{': '}',\n",
    "            '[': ']'\n",
    "        }\n",
    "        for char in s:\n",
    "            if char in mapping:\n",
    "                stack.append(char)\n",
    "            else:\n",
    "                try:\n",
    "                    last_open = stack.pop()\n",
    "                    print('last_open is',last_open)\n",
    "                except IndexError:\n",
    "                    return False\n",
    "                if char != mapping[last_open]:\n",
    "                    return False\n",
    "            print(\"char is\",char,\"stack is\",stack)\n",
    "        if len(stack) > 0:\n",
    "            return False\n",
    "        return True"
   ]
  },
  {
   "cell_type": "code",
   "execution_count": 7,
   "metadata": {},
   "outputs": [
    {
     "name": "stdout",
     "output_type": "stream",
     "text": [
      "char is ( stack is ['(']\n",
      "last_open is (\n",
      "char is ) stack is []\n",
      "char is [ stack is ['[']\n",
      "last_open is [\n",
      "char is ] stack is []\n",
      "char is { stack is ['{']\n",
      "last_open is {\n",
      "char is } stack is []\n"
     ]
    },
    {
     "data": {
      "text/plain": [
       "True"
      ]
     },
     "execution_count": 7,
     "metadata": {},
     "output_type": "execute_result"
    }
   ],
   "source": [
    "s1= \"()[]{}\"\n",
    "isValid(s1)"
   ]
  },
  {
   "cell_type": "code",
   "execution_count": null,
   "metadata": {},
   "outputs": [],
   "source": []
  }
 ],
 "metadata": {
  "kernelspec": {
   "display_name": "Python 3",
   "language": "python",
   "name": "python3"
  },
  "language_info": {
   "codemirror_mode": {
    "name": "ipython",
    "version": 3
   },
   "file_extension": ".py",
   "mimetype": "text/x-python",
   "name": "python",
   "nbconvert_exporter": "python",
   "pygments_lexer": "ipython3",
   "version": "3.7.5"
  }
 },
 "nbformat": 4,
 "nbformat_minor": 2
}
