{
 "cells": [
  {
   "cell_type": "markdown",
   "metadata": {},
   "source": [
    "# Heaters"
   ]
  },
  {
   "cell_type": "markdown",
   "metadata": {},
   "source": [
    "Winter is coming! Your first job during the contest is to design a standard heater with fixed warm radius to warm all the houses.\n",
    "\n",
    "Now, you are given positions of houses and heaters on a horizontal line, find out minimum radius of heaters so that all houses could be covered by those heaters.\n",
    "\n",
    "So, your input will be the positions of houses and heaters seperately, and your expected output will be the minimum radius standard of heaters.\n",
    "\n",
    "Note:\n",
    "\n",
    "Numbers of houses and heaters you are given are non-negative and will not exceed 25000.\n",
    "Positions of houses and heaters you are given are non-negative and will not exceed 10^9.\n",
    "As long as a house is in the heaters' warm radius range, it can be warmed.\n",
    "All the heaters follow your radius standard and the warm radius will the same.\n",
    " \n",
    "\n",
    "Example 1:\n",
    "\n",
    "Input: [1,2,3],[2]\n",
    "\n",
    "Output: 1\n",
    "\n",
    "Explanation: The only heater was placed in the position 2, and if we use the radius 1 standard, then all the houses can be warmed.\n",
    "\n",
    "\n",
    "\n",
    "Example 2:\n",
    "\n",
    "Input: [1,2,3,4],[1,4]\n",
    "\n",
    "Output: 1\n",
    "\n",
    "Explanation: The two heater was placed in the position 1 and 4. We need to use radius 1 standard, then all the houses can be warmed.\n",
    " "
   ]
  },
  {
   "cell_type": "code",
   "execution_count": 15,
   "metadata": {},
   "outputs": [],
   "source": [
    "def findRadius(houses,heaters):\n",
    "    houses.sort()\n",
    "    heaters.sort()\n",
    "    \n",
    "    i = 0\n",
    "    j = 0\n",
    "    d = 0\n",
    "    \n",
    "    while i < len(houses):\n",
    "        while houses[i] > heaters[j] and j < len(heaters)-1:\n",
    "            j += 1\n",
    "        if j >= 1:\n",
    "            temp_d = min(abs(houses[i]-heaters[j]), abs(houses[i] - heaters[j-1]))\n",
    "        else:\n",
    "            temp_d = abs(houses[i] - heaters[j])\n",
    "        d = max(d, temp_d)\n",
    "        i += 1\n",
    "            \n",
    "    return d"
   ]
  },
  {
   "cell_type": "code",
   "execution_count": 16,
   "metadata": {},
   "outputs": [
    {
     "data": {
      "text/plain": [
       "3"
      ]
     },
     "execution_count": 16,
     "metadata": {},
     "output_type": "execute_result"
    }
   ],
   "source": [
    "houses=[1,5]\n",
    "heaters=[2]\n",
    "findRadius(houses,heaters)"
   ]
  },
  {
   "cell_type": "code",
   "execution_count": 17,
   "metadata": {},
   "outputs": [
    {
     "data": {
      "text/plain": [
       "1"
      ]
     },
     "execution_count": 17,
     "metadata": {},
     "output_type": "execute_result"
    }
   ],
   "source": [
    "houses=[1,2,3]\n",
    "heaters=[2]\n",
    "findRadius(houses,heaters)"
   ]
  },
  {
   "cell_type": "code",
   "execution_count": 18,
   "metadata": {},
   "outputs": [
    {
     "data": {
      "text/plain": [
       "1"
      ]
     },
     "execution_count": 18,
     "metadata": {},
     "output_type": "execute_result"
    }
   ],
   "source": [
    "houses=[1,2,3]\n",
    "heaters=[1,4]\n",
    "findRadius(houses,heaters)"
   ]
  },
  {
   "cell_type": "code",
   "execution_count": null,
   "metadata": {},
   "outputs": [],
   "source": []
  }
 ],
 "metadata": {
  "kernelspec": {
   "display_name": "Python 3",
   "language": "python",
   "name": "python3"
  },
  "language_info": {
   "codemirror_mode": {
    "name": "ipython",
    "version": 3
   },
   "file_extension": ".py",
   "mimetype": "text/x-python",
   "name": "python",
   "nbconvert_exporter": "python",
   "pygments_lexer": "ipython3",
   "version": "3.7.5"
  }
 },
 "nbformat": 4,
 "nbformat_minor": 2
}
