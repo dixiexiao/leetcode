{
 "cells": [
  {
   "cell_type": "markdown",
   "metadata": {},
   "source": [
    "# Paint Fence"
   ]
  },
  {
   "cell_type": "markdown",
   "metadata": {},
   "source": [
    "Given a fence with n posts and k colors, find out the number of ways of painting the fence such that at most 2 adjacent posts have the same color. Since answer can be large return it modulo 10^9 + 7.\n",
    "\n",
    "Examples:\n",
    "\n",
    "Input : n = 2 k = 4\n",
    "Output : 16\n",
    "\n",
    "We have 4 colors and 2 posts. \n",
    "\n",
    "Ways when both posts have same color : 4 \n",
    "\n",
    "Ways when both posts have diff color :\n",
    "4*(choices for 1st post) * 3(choices for 2nd post) = 12\n",
    "\n",
    "Input : n = 3 k = 2\n",
    "Output : 6"
   ]
  },
  {
   "cell_type": "code",
   "execution_count": 2,
   "metadata": {},
   "outputs": [],
   "source": [
    "# Returns count of ways to color  \n",
    "# k posts using k colors  \n",
    "def countWays(n, k) : \n",
    "    total = k \n",
    "    mod = 1000000007\n",
    "    \n",
    "    # There are 0 ways for single post to violate (same color_) and k ways to not violate (different color)  \n",
    "    same, diff = 0, k \n",
    "    \n",
    "    # Fill for 2 posts onwards  \n",
    "    for i in range(2, n + 1) : \n",
    "        # Current same is same as  \n",
    "        # previous diff  \n",
    "        same = diff  \n",
    "        \n",
    "        # We always have k-1 choices for next post  \n",
    "        diff = total * (k - 1)  \n",
    "        diff = diff % mod  \n",
    "        \n",
    "        # Total choices till i.  \n",
    "        total = (same + diff) % mod  \n",
    "    return total\n"
   ]
  },
  {
   "cell_type": "code",
   "execution_count": 3,
   "metadata": {},
   "outputs": [
    {
     "data": {
      "text/plain": [
       "16"
      ]
     },
     "execution_count": 3,
     "metadata": {},
     "output_type": "execute_result"
    }
   ],
   "source": [
    "n = 2 \n",
    "k = 4\n",
    "countWays(n, k)"
   ]
  },
  {
   "cell_type": "code",
   "execution_count": null,
   "metadata": {},
   "outputs": [],
   "source": []
  }
 ],
 "metadata": {
  "kernelspec": {
   "display_name": "Python 3",
   "language": "python",
   "name": "python3"
  },
  "language_info": {
   "codemirror_mode": {
    "name": "ipython",
    "version": 3
   },
   "file_extension": ".py",
   "mimetype": "text/x-python",
   "name": "python",
   "nbconvert_exporter": "python",
   "pygments_lexer": "ipython3",
   "version": "3.7.5"
  }
 },
 "nbformat": 4,
 "nbformat_minor": 2
}
