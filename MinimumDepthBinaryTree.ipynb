{
 "cells": [
  {
   "cell_type": "markdown",
   "metadata": {},
   "source": [
    "# Minimum Depth of Binary Tree"
   ]
  },
  {
   "cell_type": "markdown",
   "metadata": {},
   "source": [
    "Given a binary tree, find its minimum depth.\n",
    "\n",
    "The minimum depth is the number of nodes along the shortest path from the root node down to the nearest leaf node.\n",
    "\n",
    "Note: A leaf is a node with no children.\n",
    "\n",
    "Example:\n",
    "\n",
    "Given binary tree [3,9,20,null,null,15,7],\n",
    "return its minimum depth = 2."
   ]
  },
  {
   "cell_type": "code",
   "execution_count": null,
   "metadata": {},
   "outputs": [],
   "source": [
    "#DFS Solution\n",
    "#BFS can encounter problems when the tree is deep.\n",
    "\n",
    "class Solution:\n",
    "    def minDepth(self, root: TreeNode) -> int:\n",
    "        mindepth=0\n",
    "        if not root:\n",
    "            return mindepth\n",
    "        \n",
    "        if root.left is None and root.right is None:\n",
    "            return 1\n",
    "        \n",
    "        min_depth = float('inf')\n",
    "        stack = []\n",
    "        stack.append((root,1))\n",
    "        \n",
    "        while len(stack)>0:\n",
    "            node = stack.pop()\n",
    "            depth = node[1]\n",
    "            if node[0].left is not None:\n",
    "                stack.append((node[0].left,depth+1))\n",
    "            if node[0].right is not None:\n",
    "                stack.append((node[0].right,depth+1))\n",
    "            if node[0].left is None and node[0].right is None:\n",
    "                if depth<min_depth:\n",
    "                    min_depth = depth\n",
    "        \n",
    "        return min_depth\n",
    "        \n",
    "        "
   ]
  }
 ],
 "metadata": {
  "kernelspec": {
   "display_name": "Python 3",
   "language": "python",
   "name": "python3"
  },
  "language_info": {
   "codemirror_mode": {
    "name": "ipython",
    "version": 3
   },
   "file_extension": ".py",
   "mimetype": "text/x-python",
   "name": "python",
   "nbconvert_exporter": "python",
   "pygments_lexer": "ipython3",
   "version": "3.7.5"
  }
 },
 "nbformat": 4,
 "nbformat_minor": 2
}
