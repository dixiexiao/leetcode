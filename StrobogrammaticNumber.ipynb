{
 "cells": [
  {
   "cell_type": "markdown",
   "metadata": {},
   "source": [
    "# Strobogrammatic Number"
   ]
  },
  {
   "cell_type": "code",
   "execution_count": 2,
   "metadata": {
    "scrolled": true
   },
   "outputs": [
    {
     "data": {
      "text/plain": [
       "'\\nAlgorithm: HashMap, Two pointers\\n1. Declare a hashmap(str(number), str(strobogrammatic number))\\n    (\"0\", \"0\"), (\"1\", \"1\"), (\"6\", \"9\"), (\"8\", \"8\"), (\"9\", \"6\")\\n2. Declare left = 0 and right = num.length - 1\\n3. while left <= right:\\n    if num[left] not in hashMap: return false\\n    if hashMap[num[left]] != num[right]: return false\\n    left += 1\\n    right -= 1\\n4. return true\\n'"
      ]
     },
     "execution_count": 2,
     "metadata": {},
     "output_type": "execute_result"
    }
   ],
   "source": [
    "\"\"\"\n",
    "A strobogrammatic number is a number that looks the same when rotated 180 degrees (looked at upside down).\n",
    "Write a function to determine if a number is strobogrammatic. The number is represented as a string.\n",
    "Example 1:\n",
    "Input:  \"69\"\n",
    "Output: true\n",
    "Example 2:\n",
    "Input:  \"88\"\n",
    "Output: true\n",
    "Example 3:\n",
    "Input:  \"962\"\n",
    "Output: false\n",
    "\"\"\"\n",
    "\n",
    "\"\"\"\n",
    "Algorithm: HashMap, Two pointers\n",
    "1. Declare a hashmap(str(number), str(strobogrammatic number))\n",
    "    (\"0\", \"0\"), (\"1\", \"1\"), (\"6\", \"9\"), (\"8\", \"8\"), (\"9\", \"6\")\n",
    "2. Declare left = 0 and right = num.length - 1\n",
    "3. while left <= right:\n",
    "    if num[left] not in hashMap: return false\n",
    "    if hashMap[num[left]] != num[right]: return false\n",
    "    left += 1\n",
    "    right -= 1\n",
    "4. return true\n",
    "\"\"\""
   ]
  },
  {
   "cell_type": "code",
   "execution_count": 9,
   "metadata": {},
   "outputs": [],
   "source": [
    "def isStrobogrammatic(num):\n",
    "    \n",
    "    mydict={\n",
    "        \"0\":\"0\",\n",
    "        \"1\":\"1\",\n",
    "        \"6\":\"9\",\n",
    "        \"8\":\"8\",\n",
    "        \"9\":\"6\"\n",
    "    }\n",
    "    \n",
    "    sn=\"\"\n",
    "    \n",
    "    for s in num:\n",
    "        if s not in mydict:\n",
    "            return False\n",
    "            break\n",
    "        else:\n",
    "            sn+=mydict[s]\n",
    "    \n",
    "    return num==sn[::-1]\n",
    "        "
   ]
  },
  {
   "cell_type": "code",
   "execution_count": 10,
   "metadata": {},
   "outputs": [
    {
     "data": {
      "text/plain": [
       "True"
      ]
     },
     "execution_count": 10,
     "metadata": {},
     "output_type": "execute_result"
    }
   ],
   "source": [
    "isStrobogrammatic(\"69\")"
   ]
  },
  {
   "cell_type": "code",
   "execution_count": 11,
   "metadata": {},
   "outputs": [
    {
     "data": {
      "text/plain": [
       "True"
      ]
     },
     "execution_count": 11,
     "metadata": {},
     "output_type": "execute_result"
    }
   ],
   "source": [
    "isStrobogrammatic(\"818\")"
   ]
  },
  {
   "cell_type": "code",
   "execution_count": 12,
   "metadata": {},
   "outputs": [
    {
     "data": {
      "text/plain": [
       "False"
      ]
     },
     "execution_count": 12,
     "metadata": {},
     "output_type": "execute_result"
    }
   ],
   "source": [
    "isStrobogrammatic(\"962\")"
   ]
  },
  {
   "cell_type": "code",
   "execution_count": null,
   "metadata": {},
   "outputs": [],
   "source": []
  }
 ],
 "metadata": {
  "kernelspec": {
   "display_name": "Python 3",
   "language": "python",
   "name": "python3"
  },
  "language_info": {
   "codemirror_mode": {
    "name": "ipython",
    "version": 3
   },
   "file_extension": ".py",
   "mimetype": "text/x-python",
   "name": "python",
   "nbconvert_exporter": "python",
   "pygments_lexer": "ipython3",
   "version": "3.7.5"
  }
 },
 "nbformat": 4,
 "nbformat_minor": 2
}
