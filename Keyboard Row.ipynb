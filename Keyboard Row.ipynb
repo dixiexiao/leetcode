{
 "cells": [
  {
   "cell_type": "markdown",
   "metadata": {},
   "source": [
    "# Keyboard Row"
   ]
  },
  {
   "cell_type": "markdown",
   "metadata": {},
   "source": [
    "Given a List of words, return the words that can be typed using letters of alphabet on only one row's of American keyboard like the image below.\n",
    "\n",
    "Example:\n",
    "\n",
    "Input: [\"Hello\", \"Alaska\", \"Dad\", \"Peace\"]\n",
    "Output: [\"Alaska\", \"Dad\"]\n",
    "    \n",
    "Note:\n",
    "\n",
    "You may use one character in the keyboard more than once.\n",
    "You may assume the input string will only contain letters of alphabet."
   ]
  },
  {
   "cell_type": "code",
   "execution_count": 6,
   "metadata": {},
   "outputs": [],
   "source": [
    "def findWords(words):\n",
    "\n",
    "\n",
    "    set1=set(list('qwertyuiop')+list('qwertyuiop'.upper()))\n",
    "    set2=set(list('asdfghjkl')+list('asdfghjkl'.upper()))\n",
    "    set3=set(list('zxcvbnm')+list('zxcvbnm'.upper()))\n",
    "    \n",
    "    res=[]\n",
    "    \n",
    "    for w in words:\n",
    "        setw=set(list(w))\n",
    "        \n",
    "        if setw.issubset(set1) or setw.issubset(set2) or setw.issubset(set3):\n",
    "          \n",
    "            res.append(w)\n",
    "    return res    \n"
   ]
  },
  {
   "cell_type": "code",
   "execution_count": 7,
   "metadata": {},
   "outputs": [
    {
     "data": {
      "text/plain": [
       "['Alaska', 'Dad']"
      ]
     },
     "execution_count": 7,
     "metadata": {},
     "output_type": "execute_result"
    }
   ],
   "source": [
    "words=[\"Hello\", \"Alaska\", \"Dad\", \"Peace\"] \n",
    "findWords(words)"
   ]
  },
  {
   "cell_type": "code",
   "execution_count": null,
   "metadata": {},
   "outputs": [],
   "source": []
  }
 ],
 "metadata": {
  "kernelspec": {
   "display_name": "Python 3",
   "language": "python",
   "name": "python3"
  },
  "language_info": {
   "codemirror_mode": {
    "name": "ipython",
    "version": 3
   },
   "file_extension": ".py",
   "mimetype": "text/x-python",
   "name": "python",
   "nbconvert_exporter": "python",
   "pygments_lexer": "ipython3",
   "version": "3.7.5"
  }
 },
 "nbformat": 4,
 "nbformat_minor": 2
}
