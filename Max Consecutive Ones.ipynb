{
 "cells": [
  {
   "cell_type": "markdown",
   "metadata": {},
   "source": [
    "# Max Consecutive Ones"
   ]
  },
  {
   "cell_type": "markdown",
   "metadata": {},
   "source": [
    "Given a binary array, find the maximum number of consecutive 1s in this array.\n",
    "\n",
    "Example 1:\n",
    "\n",
    "Input: [1,1,0,1,1,1]\n",
    "\n",
    "Output: 3\n",
    "\n",
    "Explanation: The first two digits or the last three digits are consecutive 1s.\n",
    "    The maximum number of consecutive 1s is 3."
   ]
  },
  {
   "cell_type": "code",
   "execution_count": 19,
   "metadata": {},
   "outputs": [],
   "source": [
    "def findMaxConsecutiveOnes(nums):\n",
    "    maxc=0\n",
    "    previous=\"\"\n",
    "    currentc=1\n",
    "    \n",
    "    for n in nums:\n",
    "        \n",
    "        if n==previous:\n",
    "            currentc+=1\n",
    "            previous=n\n",
    "        else:\n",
    "            if previous==1:\n",
    "                maxc=max(maxc,currentc)\n",
    "                currentc=1\n",
    "                previous=n\n",
    "            else:\n",
    "                currentc=1\n",
    "                previous=n\n",
    "    if previous==1:\n",
    "        maxc=max(maxc,currentc)\n",
    "    else:\n",
    "        pass\n",
    "    return maxc"
   ]
  },
  {
   "cell_type": "code",
   "execution_count": 20,
   "metadata": {},
   "outputs": [
    {
     "data": {
      "text/plain": [
       "3"
      ]
     },
     "execution_count": 20,
     "metadata": {},
     "output_type": "execute_result"
    }
   ],
   "source": [
    "nums=[1,1,0,1,1,1,0]\n",
    "findMaxConsecutiveOnes(nums)"
   ]
  },
  {
   "cell_type": "code",
   "execution_count": 21,
   "metadata": {},
   "outputs": [
    {
     "data": {
      "text/plain": [
       "0"
      ]
     },
     "execution_count": 21,
     "metadata": {},
     "output_type": "execute_result"
    }
   ],
   "source": [
    "nums=[0,0]\n",
    "findMaxConsecutiveOnes(nums)"
   ]
  },
  {
   "cell_type": "code",
   "execution_count": null,
   "metadata": {},
   "outputs": [],
   "source": []
  }
 ],
 "metadata": {
  "kernelspec": {
   "display_name": "Python 3",
   "language": "python",
   "name": "python3"
  },
  "language_info": {
   "codemirror_mode": {
    "name": "ipython",
    "version": 3
   },
   "file_extension": ".py",
   "mimetype": "text/x-python",
   "name": "python",
   "nbconvert_exporter": "python",
   "pygments_lexer": "ipython3",
   "version": "3.7.5"
  }
 },
 "nbformat": 4,
 "nbformat_minor": 2
}
