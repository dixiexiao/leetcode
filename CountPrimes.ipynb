{
 "cells": [
  {
   "cell_type": "markdown",
   "metadata": {},
   "source": [
    "# Count Primes"
   ]
  },
  {
   "cell_type": "markdown",
   "metadata": {},
   "source": [
    "Count the number of prime numbers less than a non-negative number, n.\n",
    "\n",
    "Example:\n",
    "\n",
    "Input: 10\n",
    "\n",
    "Output: 4\n",
    "\n",
    "Explanation: There are 4 prime numbers less than 10, they are 2, 3, 5, 7."
   ]
  },
  {
   "cell_type": "code",
   "execution_count": 1,
   "metadata": {},
   "outputs": [],
   "source": [
    "def countPrimes(n):\n",
    "    pcount=0\n",
    "    for i in range(1,n):\n",
    "        if isPrime(i):\n",
    "            pcount+=1\n",
    "    return pcount      \n",
    "            "
   ]
  },
  {
   "cell_type": "code",
   "execution_count": 2,
   "metadata": {},
   "outputs": [],
   "source": [
    "def isPrime(n):\n",
    "    if (n <= 1) : \n",
    "        return False\n",
    "    if (n == 3 or n==2) : \n",
    "        return True\n",
    "  \n",
    "    # This is checked so that we can skip  \n",
    "    # middle five numbers in below loop \n",
    "    if (n % 2 == 0 or n % 3 == 0) : \n",
    "        return False\n",
    "  \n",
    "    i = 5\n",
    "    while(i * i <= n) : \n",
    "        if (n % i == 0 or n % (i + 2) == 0) : \n",
    "            return False\n",
    "        i = i + 6\n",
    "  \n",
    "    return True"
   ]
  },
  {
   "cell_type": "code",
   "execution_count": 3,
   "metadata": {},
   "outputs": [
    {
     "data": {
      "text/plain": [
       "4"
      ]
     },
     "execution_count": 3,
     "metadata": {},
     "output_type": "execute_result"
    }
   ],
   "source": [
    "countPrimes(10)"
   ]
  },
  {
   "cell_type": "code",
   "execution_count": null,
   "metadata": {},
   "outputs": [],
   "source": [
    "def countPrimesOptimized(self, n: int) -> int:\n",
    "        if n < 3:\n",
    "            return 0\n",
    "        \n",
    "        primes = [1]*n\n",
    "        primes[0] = primes[1] = 0\n",
    "        for i in range(2,int(n**0.5)+1):\n",
    "            if primes[i]:\n",
    "                primes[i*i:n:i] = [0]*len(primes[i*i:n:i])\n",
    "                #print(i,primes[i*i:n:i])\n",
    "        return sum(primes)"
   ]
  }
 ],
 "metadata": {
  "kernelspec": {
   "display_name": "Python 3",
   "language": "python",
   "name": "python3"
  },
  "language_info": {
   "codemirror_mode": {
    "name": "ipython",
    "version": 3
   },
   "file_extension": ".py",
   "mimetype": "text/x-python",
   "name": "python",
   "nbconvert_exporter": "python",
   "pygments_lexer": "ipython3",
   "version": "3.7.5"
  }
 },
 "nbformat": 4,
 "nbformat_minor": 2
}
