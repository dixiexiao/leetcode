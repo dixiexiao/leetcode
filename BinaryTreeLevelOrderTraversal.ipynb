{
 "cells": [
  {
   "cell_type": "markdown",
   "metadata": {},
   "source": [
    "# Binary Tree Level Order Traversal II"
   ]
  },
  {
   "cell_type": "markdown",
   "metadata": {},
   "source": [
    "Given a binary tree, return the level order traversal of its nodes’ values. (ie, from left to right, level by level).\n",
    "\n",
    "For example:\n",
    "Given binary tree {3,9,20,#,#,15,7},\n",
    "return its level order traversal as:\n",
    "\n",
    "[\n",
    "  [3],\n",
    "  [9,20],\n",
    "  [15,7]\n",
    "]"
   ]
  },
  {
   "cell_type": "code",
   "execution_count": null,
   "metadata": {},
   "outputs": [],
   "source": [
    "class Solution(object):\n",
    "    def levelOrder(self, root):\n",
    "        res=[]\n",
    "        \n",
    "        if not root:\n",
    "            return res\n",
    "        \n",
    "        q=[root]\n",
    "        while len(q)!=0:\n",
    "            for node in q:\n",
    "                res.append(node.val)\n",
    "            new_q=[]\n",
    "            \n",
    "            for node in q:\n",
    "                if node.left:\n",
    "                    new_q.append(node_left)\n",
    "                if node.right:\n",
    "                    new_q.append(node_right)\n",
    "            q=new_q\n",
    "            "
   ]
  }
 ],
 "metadata": {
  "kernelspec": {
   "display_name": "Python 3",
   "language": "python",
   "name": "python3"
  },
  "language_info": {
   "codemirror_mode": {
    "name": "ipython",
    "version": 3
   },
   "file_extension": ".py",
   "mimetype": "text/x-python",
   "name": "python",
   "nbconvert_exporter": "python",
   "pygments_lexer": "ipython3",
   "version": "3.7.5"
  }
 },
 "nbformat": 4,
 "nbformat_minor": 2
}
