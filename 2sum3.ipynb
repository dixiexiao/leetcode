{
 "cells": [
  {
   "cell_type": "markdown",
   "metadata": {},
   "source": [
    "# Two Sum III – Data structure design"
   ]
  },
  {
   "cell_type": "markdown",
   "metadata": {},
   "source": [
    "add - Add the number to an internal data structure.\n",
    "find - Find if there exists any pair of numbers which sum is equal to the value.\n",
    "\n",
    "For example,\n",
    "\n",
    "add(1); \n",
    "\n",
    "add(3); \n",
    "\n",
    "add(5);\n",
    "\n",
    "find(4) -> true\n",
    "\n",
    "find(7) -> false"
   ]
  },
  {
   "cell_type": "code",
   "execution_count": null,
   "metadata": {},
   "outputs": [],
   "source": []
  },
  {
   "cell_type": "markdown",
   "metadata": {},
   "source": [
    "class TwoSum(object):\n",
    "    def __init__(self):\n",
    "        self.nums=[]\n",
    "        self.sums={}\n",
    "        \n",
    "    def addNum(self,number):\n",
    "        for i in self.sums:\n",
    "            self.sums[i+number]=1\n",
    "        self.nums.append(number)\n",
    "        \n",
    "    def findNum(self,number):\n",
    "        if number in self.sums:\n",
    "            return True\n",
    "        else:\n",
    "            return False\n",
    "        "
   ]
  }
 ],
 "metadata": {
  "kernelspec": {
   "display_name": "Python 3",
   "language": "python",
   "name": "python3"
  },
  "language_info": {
   "codemirror_mode": {
    "name": "ipython",
    "version": 3
   },
   "file_extension": ".py",
   "mimetype": "text/x-python",
   "name": "python",
   "nbconvert_exporter": "python",
   "pygments_lexer": "ipython3",
   "version": "3.7.4"
  }
 },
 "nbformat": 4,
 "nbformat_minor": 2
}
