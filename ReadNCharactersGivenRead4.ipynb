{
 "cells": [
  {
   "cell_type": "markdown",
   "metadata": {},
   "source": [
    "# Read N Characters Given Read4"
   ]
  },
  {
   "cell_type": "markdown",
   "metadata": {},
   "source": [
    "The API: int read4(char *buf) reads 4 characters at a time from a file.\n",
    "\n",
    "The return value is the actual number of characters read. For example, it returns 3 if there is only 3 characters left in the file.\n",
    "\n",
    "By using the read4 API, implement the function int read(char *buf, int n) that reads n characters from the file.\n",
    "\n",
    "Note:\n",
    "\n",
    "The read function will only be called once for each test case.\n",
    "\n",
    "Understand the problem:\n",
    "This seemingly easy coding question has some tricky edge cases. When read4 returns less than 4, we know it must reached the end of file. However, take note that read4 returning 4 could mean the last 4 bytes of the file.\n",
    "\n",
    "\n",
    "To make sure that the buffer is not copied more than n bytes, copy the remaining bytes (n – readBytes) or the number of bytes read, whichever is smaller."
   ]
  },
  {
   "cell_type": "code",
   "execution_count": null,
   "metadata": {},
   "outputs": [],
   "source": [
    "def read4(buf):\n",
    "    pass\n",
    "\n",
    "def read(buf,n):\n",
    "    total_c=0\n",
    "    last_c=4\n",
    "    \n",
    "    while last_c==4 and total_c<n:\n",
    "        #temporarl buffer\n",
    "        buf4=[None]*4\n",
    "        last_c=min(read4(buf4),n-total_c)\n",
    "        total_c+=last_c\n",
    "    return total_c\n",
    "        \n"
   ]
  },
  {
   "cell_type": "code",
   "execution_count": 1,
   "metadata": {},
   "outputs": [
    {
     "data": {
      "text/plain": [
       "['', '', '', '']"
      ]
     },
     "execution_count": 1,
     "metadata": {},
     "output_type": "execute_result"
    }
   ],
   "source": [
    "[\"\"]*4"
   ]
  },
  {
   "cell_type": "code",
   "execution_count": null,
   "metadata": {},
   "outputs": [],
   "source": []
  }
 ],
 "metadata": {
  "kernelspec": {
   "display_name": "Python 3",
   "language": "python",
   "name": "python3"
  },
  "language_info": {
   "codemirror_mode": {
    "name": "ipython",
    "version": 3
   },
   "file_extension": ".py",
   "mimetype": "text/x-python",
   "name": "python",
   "nbconvert_exporter": "python",
   "pygments_lexer": "ipython3",
   "version": "3.7.5"
  }
 },
 "nbformat": 4,
 "nbformat_minor": 2
}
