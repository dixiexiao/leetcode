{
 "cells": [
  {
   "cell_type": "markdown",
   "metadata": {},
   "source": [
    "# Count and Say"
   ]
  },
  {
   "cell_type": "markdown",
   "metadata": {},
   "source": [
    "he count-and-say sequence is the sequence of integers with the first five terms as following:\n",
    "\n",
    "1.     1\n",
    "2.     11\n",
    "3.     21\n",
    "4.     1211\n",
    "5.     111221\n",
    "1 is read off as \"one 1\" or 11.\n",
    "11 is read off as \"two 1s\" or 21.\n",
    "21 is read off as \"one 2, then one 1\" or 1211.\n",
    "\n",
    "Given an integer n where 1 ≤ n ≤ 30, generate the nth term of the count-and-say sequence.\n",
    "\n",
    "Note: Each term of the sequence of integers will be represented as a string.\n",
    "\n",
    " \n",
    "\n",
    "Example 1:\n",
    "\n",
    "Input: 1\n",
    "Output: \"1\"\n",
    "Example 2:\n",
    "\n",
    "Input: 4\n",
    "Output: \"1211\""
   ]
  },
  {
   "cell_type": "code",
   "execution_count": 16,
   "metadata": {},
   "outputs": [],
   "source": [
    "def countAndSay(n):\n",
    "    seq = [\"1\"]\n",
    "    for i in range (1,n):\n",
    "        next = \"\"\n",
    "        count = 1\n",
    "        number = seq[i-1][0]\n",
    "        for j in range (1,len(seq[i-1])): \n",
    "            if seq[i-1][j]==number:\n",
    "                count += 1\n",
    "            else:\n",
    "                next = next + str(count)+number\n",
    "                number = seq[i-1][j]\n",
    "                count = 1\n",
    "            # add the ending ones\n",
    "        next = next + str(count)+ number\n",
    "        seq += [next]\n",
    "        print(seq)\n",
    "      \n",
    "                \n",
    "    return(seq[n-1])  \n",
    "                "
   ]
  },
  {
   "cell_type": "code",
   "execution_count": 17,
   "metadata": {},
   "outputs": [
    {
     "name": "stdout",
     "output_type": "stream",
     "text": [
      "['1', '11']\n",
      "['1', '11', '21']\n",
      "['1', '11', '21', '1211']\n",
      "['1', '11', '21', '1211', '111221']\n"
     ]
    },
    {
     "data": {
      "text/plain": [
       "'111221'"
      ]
     },
     "execution_count": 17,
     "metadata": {},
     "output_type": "execute_result"
    }
   ],
   "source": [
    "countAndSay(5)"
   ]
  },
  {
   "cell_type": "code",
   "execution_count": null,
   "metadata": {},
   "outputs": [],
   "source": [
    "def countAndSay2(n):\n",
    "    seq=[None]*n\n",
    "    seq[0]='1'\n",
    "    for i in range(1,n):\n",
    "        head_number = seq[i-1][0]\n",
    "        count=0\n",
    "        seq[i]=''\n",
    "        for j in seq[i-1]:\n",
    "            if j==head_number:\n",
    "                count+=1\n",
    "            else:\n",
    "                seq[i]+=str(count)+head_number\n",
    "                head_number=j\n",
    "                count=1\n",
    "        seq[i]+=str(count)+head_number\n",
    "            \n",
    "    \n",
    "            "
   ]
  },
  {
   "cell_type": "code",
   "execution_count": null,
   "metadata": {},
   "outputs": [],
   "source": []
  }
 ],
 "metadata": {
  "kernelspec": {
   "display_name": "Python 3",
   "language": "python",
   "name": "python3"
  },
  "language_info": {
   "codemirror_mode": {
    "name": "ipython",
    "version": 3
   },
   "file_extension": ".py",
   "mimetype": "text/x-python",
   "name": "python",
   "nbconvert_exporter": "python",
   "pygments_lexer": "ipython3",
   "version": "3.7.5"
  }
 },
 "nbformat": 4,
 "nbformat_minor": 2
}
