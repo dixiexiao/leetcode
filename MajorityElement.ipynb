{
 "cells": [
  {
   "cell_type": "markdown",
   "metadata": {},
   "source": [
    "# Majority Element"
   ]
  },
  {
   "cell_type": "markdown",
   "metadata": {},
   "source": [
    "Given an array of size n, find the majority element. The majority element is the element that appears more than ⌊ n/2 ⌋ times.\n",
    "\n",
    "You may assume that the array is non-empty and the majority element always exist in the array.\n",
    "\n",
    "Input: [2,2,1,1,1,2,2]\n",
    "\n",
    "Output: 2"
   ]
  },
  {
   "cell_type": "code",
   "execution_count": 12,
   "metadata": {},
   "outputs": [],
   "source": [
    "def majorityElement(nums):\n",
    "    mydic={}\n",
    "    for n in nums:\n",
    "        if n in mydic:\n",
    "            mydic[n]+=1\n",
    "        else:\n",
    "            mydic[n]=1\n",
    "    \n",
    "    nlen=len(nums)\n",
    "    for j in mydic:\n",
    "        if mydic[j]>(nlen/2):\n",
    "            return j\n",
    "    \n"
   ]
  },
  {
   "cell_type": "code",
   "execution_count": 13,
   "metadata": {},
   "outputs": [
    {
     "data": {
      "text/plain": [
       "2"
      ]
     },
     "execution_count": 13,
     "metadata": {},
     "output_type": "execute_result"
    }
   ],
   "source": [
    "nums= [2,2,1,1,1,2,2]\n",
    "majorityElement(nums)"
   ]
  },
  {
   "cell_type": "code",
   "execution_count": null,
   "metadata": {},
   "outputs": [],
   "source": []
  }
 ],
 "metadata": {
  "kernelspec": {
   "display_name": "Python 3",
   "language": "python",
   "name": "python3"
  },
  "language_info": {
   "codemirror_mode": {
    "name": "ipython",
    "version": 3
   },
   "file_extension": ".py",
   "mimetype": "text/x-python",
   "name": "python",
   "nbconvert_exporter": "python",
   "pygments_lexer": "ipython3",
   "version": "3.7.4"
  }
 },
 "nbformat": 4,
 "nbformat_minor": 2
}
