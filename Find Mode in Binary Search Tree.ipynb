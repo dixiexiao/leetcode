{
 "cells": [
  {
   "cell_type": "markdown",
   "metadata": {},
   "source": [
    "# Find Mode in Binary Search Tree"
   ]
  },
  {
   "cell_type": "markdown",
   "metadata": {},
   "source": [
    "Given a binary search tree (BST) with duplicates, find all the mode(s) (the most frequently occurred element) in the given BST.\n",
    "\n",
    "Assume a BST is defined as follows:\n",
    "\n",
    "The left subtree of a node contains only nodes with keys less than or equal to the node's key.\n",
    "The right subtree of a node contains only nodes with keys greater than or equal to the node's key.\n",
    "Both the left and right subtrees must also be binary search trees.\n",
    " \n",
    "\n",
    "For example:\n",
    "Given BST [1,null,2,2],\n",
    "return [2]."
   ]
  },
  {
   "cell_type": "code",
   "execution_count": null,
   "metadata": {},
   "outputs": [],
   "source": [
    "class Solution:\n",
    "    def findMode(self, root: TreeNode) -> List[int]:\n",
    "        if not root:\n",
    "            return None\n",
    "        \n",
    "        mydict={}\n",
    "        node=root\n",
    "        \n",
    "        \n",
    "        def dfs(node):\n",
    "            if not node:\n",
    "                return\n",
    "            if node and node.val not in mydict:\n",
    "                mydict[node.val]=1\n",
    "            elif node.val in mydict:\n",
    "                mydict[node.val]+=1\n",
    "            if node.left:\n",
    "                dfs(node.left)\n",
    "            if node.right:\n",
    "                dfs(node.right)\n",
    "        \n",
    "        dfs(root)\n",
    "        \n",
    "        sorteddic = sorted(mydict.items(), key = key=lambda x: x[1], reverse = True)\n",
    "        return list(sorteddic.keys())[0]"
   ]
  },
  {
   "cell_type": "code",
   "execution_count": 5,
   "metadata": {},
   "outputs": [
    {
     "data": {
      "text/plain": [
       "'aa'"
      ]
     },
     "execution_count": 5,
     "metadata": {},
     "output_type": "execute_result"
    }
   ],
   "source": [
    "d = {\"aa\": 3, \"bb\": 4, \"cc\": 2, \"dd\": 1}\n",
    "list(d.keys())[0]"
   ]
  },
  {
   "cell_type": "code",
   "execution_count": 6,
   "metadata": {},
   "outputs": [
    {
     "data": {
      "text/plain": [
       "2"
      ]
     },
     "execution_count": 6,
     "metadata": {},
     "output_type": "execute_result"
    }
   ],
   "source": [
    "a=[(2, 5), (1, 3)]\n",
    "a[0][0]"
   ]
  },
  {
   "cell_type": "code",
   "execution_count": null,
   "metadata": {},
   "outputs": [],
   "source": []
  }
 ],
 "metadata": {
  "kernelspec": {
   "display_name": "Python 3",
   "language": "python",
   "name": "python3"
  },
  "language_info": {
   "codemirror_mode": {
    "name": "ipython",
    "version": 3
   },
   "file_extension": ".py",
   "mimetype": "text/x-python",
   "name": "python",
   "nbconvert_exporter": "python",
   "pygments_lexer": "ipython3",
   "version": "3.7.5"
  }
 },
 "nbformat": 4,
 "nbformat_minor": 2
}
