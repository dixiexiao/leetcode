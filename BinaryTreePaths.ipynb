{
 "cells": [
  {
   "cell_type": "markdown",
   "metadata": {},
   "source": [
    "# Binary Tree Paths"
   ]
  },
  {
   "cell_type": "markdown",
   "metadata": {},
   "source": [
    "Given a binary tree, return all root-to-leaf paths.\n",
    "\n",
    "Note: A leaf is a node with no children."
   ]
  },
  {
   "cell_type": "code",
   "execution_count": null,
   "metadata": {},
   "outputs": [],
   "source": [
    "class Solution:\n",
    "    def binaryTreePaths(self, root: TreeNode) -> List[str]:\n",
    "        temp = []\n",
    "        def traverse(root, path):\n",
    "            if not root:\n",
    "                return\n",
    "            if(root.left==None and root.right==None):\n",
    "                temp.append(path+\"->\"+str(root.val))\n",
    "            if root.left:\n",
    "                traverse(root.left, path+\"->\"+str(root.val))\n",
    "            \n",
    "            if(root.right):\n",
    "                traverse(root.right, path+\"->\"+str(root.val))\n",
    "        \n",
    "        traverse(root,\"\")\n",
    "        return [x[2:] for x in temp]"
   ]
  }
 ],
 "metadata": {
  "kernelspec": {
   "display_name": "Python 3",
   "language": "python",
   "name": "python3"
  },
  "language_info": {
   "codemirror_mode": {
    "name": "ipython",
    "version": 3
   },
   "file_extension": ".py",
   "mimetype": "text/x-python",
   "name": "python",
   "nbconvert_exporter": "python",
   "pygments_lexer": "ipython3",
   "version": "3.7.5"
  }
 },
 "nbformat": 4,
 "nbformat_minor": 2
}
