{
 "cells": [
  {
   "cell_type": "markdown",
   "metadata": {},
   "source": [
    "# Island Perimeter"
   ]
  },
  {
   "cell_type": "markdown",
   "metadata": {},
   "source": [
    "You are given a map in form of a two-dimensional integer grid where 1 represents land and 0 represents water.\n",
    "\n",
    "Grid cells are connected horizontally/vertically (not diagonally). The grid is completely surrounded by water, and there is exactly one island (i.e., one or more connected land cells).\n",
    "\n",
    "The island doesn't have \"lakes\" (water inside that isn't connected to the water around the island). One cell is a square with side length 1. The grid is rectangular, width and height don't exceed 100. Determine the perimeter of the island.\n",
    "\n",
    " \n",
    "\n",
    "Example:\n",
    "\n",
    "Input:\n",
    "[[0,1,0,0],\n",
    " [1,1,1,0],\n",
    " [0,1,0,0],\n",
    " [1,1,0,0]]\n",
    "\n",
    "Output: 16"
   ]
  },
  {
   "cell_type": "code",
   "execution_count": 18,
   "metadata": {},
   "outputs": [],
   "source": [
    "def islandPerimeter(grid):\n",
    "    pcount=0\n",
    "    wid=len(grid[0])\n",
    "    \n",
    "    for row in range(len(grid)):\n",
    "        grid[row]=[0]+grid[row]+[0]\n",
    "    \n",
    "    grid=[[0]*(wid+2)]+grid+[[0]*(wid+2)]\n",
    "    \n",
    "    for h in range(len(grid)):\n",
    "        for i in range(wid+2):\n",
    "            if grid[h][i]==1:\n",
    "                               \n",
    "                if grid[h-1][i]==0:\n",
    "                    pcount+=1\n",
    "                if grid[h+1][i]==0:\n",
    "                    pcount+=1\n",
    "                if grid[h][i-1]==0:\n",
    "                    pcount+=1\n",
    "                if grid[h][i+1]==0:\n",
    "                    pcount+=1\n",
    "    return pcount\n",
    "        "
   ]
  },
  {
   "cell_type": "code",
   "execution_count": 19,
   "metadata": {},
   "outputs": [
    {
     "data": {
      "text/plain": [
       "16"
      ]
     },
     "execution_count": 19,
     "metadata": {},
     "output_type": "execute_result"
    }
   ],
   "source": [
    "grid=[[0,1,0,0],\n",
    " [1,1,1,0],\n",
    " [0,1,0,0],\n",
    " [1,1,0,0]]\n",
    "islandPerimeter(grid)"
   ]
  },
  {
   "cell_type": "code",
   "execution_count": null,
   "metadata": {},
   "outputs": [],
   "source": []
  }
 ],
 "metadata": {
  "kernelspec": {
   "display_name": "Python 3",
   "language": "python",
   "name": "python3"
  },
  "language_info": {
   "codemirror_mode": {
    "name": "ipython",
    "version": 3
   },
   "file_extension": ".py",
   "mimetype": "text/x-python",
   "name": "python",
   "nbconvert_exporter": "python",
   "pygments_lexer": "ipython3",
   "version": "3.7.5"
  }
 },
 "nbformat": 4,
 "nbformat_minor": 2
}
