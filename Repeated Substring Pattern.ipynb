{
 "cells": [
  {
   "cell_type": "markdown",
   "metadata": {},
   "source": [
    "# Repeated Substring Pattern"
   ]
  },
  {
   "cell_type": "markdown",
   "metadata": {},
   "source": [
    "Given a non-empty string check if it can be constructed by taking a substring of it and appending multiple copies of the substring together. You may assume the given string consists of lowercase English letters only and its length will not exceed 10000.\n",
    "\n",
    " \n",
    "\n",
    "Example 1:\n",
    "\n",
    "Input: \"abab\"\n",
    "Output: True\n",
    "Explanation: It's the substring \"ab\" twice.\n",
    "Example 2:\n",
    "\n",
    "Input: \"aba\"\n",
    "Output: False\n",
    "Example 3:\n",
    "\n",
    "Input: \"abcabcabcabc\"\n",
    "Output: True\n",
    "Explanation: It's the substring \"abc\" four times. (And the substring \"abcabc\" twice.)"
   ]
  },
  {
   "cell_type": "code",
   "execution_count": null,
   "metadata": {},
   "outputs": [],
   "source": [
    "def repeatedSubstringPattern(s):\n",
    "    def check(s,i):\n",
    "        if len(s)%i !=0: \n",
    "            return False\n",
    "        \n",
    "        j = 1\n",
    "        while j< len(s)/i:\n",
    "            if s[i*j-i:i*j] == s[i*(j+1)-i:i*(j+1)]:\n",
    "                j+=1\n",
    "            else: \n",
    "                return False\n",
    "        return True\n",
    "    for i in range(1,len(s)//2+1):\n",
    "            if check(s,i): \n",
    "                return True\n",
    "    return False"
   ]
  }
 ],
 "metadata": {
  "kernelspec": {
   "display_name": "Python 3",
   "language": "python",
   "name": "python3"
  },
  "language_info": {
   "codemirror_mode": {
    "name": "ipython",
    "version": 3
   },
   "file_extension": ".py",
   "mimetype": "text/x-python",
   "name": "python",
   "nbconvert_exporter": "python",
   "pygments_lexer": "ipython3",
   "version": "3.7.5"
  }
 },
 "nbformat": 4,
 "nbformat_minor": 2
}
