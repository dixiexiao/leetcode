{
 "cells": [
  {
   "cell_type": "markdown",
   "metadata": {},
   "source": [
    "# Maximum Subarray"
   ]
  },
  {
   "cell_type": "markdown",
   "metadata": {},
   "source": [
    "Given an integer array nums, find the contiguous subarray (containing at least one number) which has the largest sum and return its sum."
   ]
  },
  {
   "cell_type": "code",
   "execution_count": 8,
   "metadata": {},
   "outputs": [],
   "source": [
    "def maxSubArray(nums):\n",
    "    if not nums: return 0\n",
    "    n = len(nums)\n",
    "    DP = [0] * n\n",
    "    DP[0] = nums[0]\n",
    "        \n",
    "    res = DP[0]\n",
    "            \n",
    "    for i in range(1,n):\n",
    "        print(nums[i], DP[i-1]) \n",
    "        DP[i] = max(nums[i], DP[i-1] + nums[i])\n",
    "        print(i,DP)\n",
    "        res = DP[i] if DP[i] > res else res\n",
    "        \n",
    "    return res\n",
    "    \n",
    "    "
   ]
  },
  {
   "cell_type": "code",
   "execution_count": 9,
   "metadata": {},
   "outputs": [
    {
     "name": "stdout",
     "output_type": "stream",
     "text": [
      "1 -2\n",
      "1 [-2, 1, 0, 0, 0, 0, 0, 0, 0]\n",
      "-3 1\n",
      "2 [-2, 1, -2, 0, 0, 0, 0, 0, 0]\n",
      "4 -2\n",
      "3 [-2, 1, -2, 4, 0, 0, 0, 0, 0]\n",
      "-1 4\n",
      "4 [-2, 1, -2, 4, 3, 0, 0, 0, 0]\n",
      "2 3\n",
      "5 [-2, 1, -2, 4, 3, 5, 0, 0, 0]\n",
      "1 5\n",
      "6 [-2, 1, -2, 4, 3, 5, 6, 0, 0]\n",
      "-5 6\n",
      "7 [-2, 1, -2, 4, 3, 5, 6, 1, 0]\n",
      "4 1\n",
      "8 [-2, 1, -2, 4, 3, 5, 6, 1, 5]\n"
     ]
    },
    {
     "data": {
      "text/plain": [
       "6"
      ]
     },
     "execution_count": 9,
     "metadata": {},
     "output_type": "execute_result"
    }
   ],
   "source": [
    "a=[-2,1,-3,4,-1,2,1,-5,4]\n",
    "maxSubArray(a)"
   ]
  },
  {
   "cell_type": "code",
   "execution_count": 10,
   "metadata": {},
   "outputs": [],
   "source": [
    "def maxsubarray2(nums):\n",
    "    overall_max=float('-inf')\n",
    "    max_here=0\n",
    "    for num in nums:\n",
    "        if max_here>0:\n",
    "            max_here+=num\n",
    "        else:\n",
    "            max_here=num\n",
    "        print(num, \"overall is\",overall_max,\"max here is\",max_here)\n",
    "        overall_max=max(overall_max,max_here)\n",
    "    return overall_max"
   ]
  },
  {
   "cell_type": "code",
   "execution_count": 11,
   "metadata": {},
   "outputs": [
    {
     "name": "stdout",
     "output_type": "stream",
     "text": [
      "-2 overall is -inf max here is -2\n",
      "1 overall is -2 max here is 1\n",
      "-3 overall is 1 max here is -2\n",
      "4 overall is 1 max here is 4\n",
      "-1 overall is 4 max here is 3\n",
      "2 overall is 4 max here is 5\n",
      "1 overall is 5 max here is 6\n",
      "-5 overall is 6 max here is 1\n",
      "4 overall is 6 max here is 5\n"
     ]
    },
    {
     "data": {
      "text/plain": [
       "6"
      ]
     },
     "execution_count": 11,
     "metadata": {},
     "output_type": "execute_result"
    }
   ],
   "source": [
    "maxsubarray2(a)"
   ]
  },
  {
   "cell_type": "code",
   "execution_count": null,
   "metadata": {},
   "outputs": [],
   "source": []
  }
 ],
 "metadata": {
  "kernelspec": {
   "display_name": "Python 3",
   "language": "python",
   "name": "python3"
  },
  "language_info": {
   "codemirror_mode": {
    "name": "ipython",
    "version": 3
   },
   "file_extension": ".py",
   "mimetype": "text/x-python",
   "name": "python",
   "nbconvert_exporter": "python",
   "pygments_lexer": "ipython3",
   "version": "3.7.5"
  }
 },
 "nbformat": 4,
 "nbformat_minor": 2
}
