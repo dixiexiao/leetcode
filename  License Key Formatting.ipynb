{
 "cells": [
  {
   "cell_type": "markdown",
   "metadata": {},
   "source": [
    "# License Key Formatting"
   ]
  },
  {
   "cell_type": "markdown",
   "metadata": {},
   "source": [
    "You are given a license key represented as a string S which consists only alphanumeric character and dashes. The string is separated into N+1 groups by N dashes.\n",
    "\n",
    "Given a number K, we would want to reformat the strings such that each group contains exactly K characters, except for the first group which could be shorter than K, but still must contain at least one character. Furthermore, there must be a dash inserted between two groups and all lowercase letters should be converted to uppercase.\n",
    "\n",
    "Given a non-empty string S and a number K, format the string according to the rules described above.\n",
    "\n",
    "Example 1:\n",
    "Input: S = \"5F3Z-2e-9-w\", K = 4\n",
    "\n",
    "Output: \"5F3Z-2E9W\"\n",
    "\n",
    "Explanation: The string S has been split into two parts, each part has 4 characters.\n",
    "Note that the two extra dashes are not needed and can be removed.\n",
    "Example 2:\n",
    "Input: S = \"2-5g-3-J\", K = 2\n",
    "\n",
    "Output: \"2-5G-3J\"\n",
    "\n",
    "Explanation: The string S has been split into three parts, each part has 2 characters except the first part as it could be shorter as mentioned above.\n",
    "Note:\n",
    "The length of string S will not exceed 12,000, and K is a positive integer.\n",
    "String S consists only of alphanumerical characters (a-z and/or A-Z and/or 0-9) and dashes(-).\n",
    "String S is non-empty."
   ]
  },
  {
   "cell_type": "code",
   "execution_count": 3,
   "metadata": {},
   "outputs": [],
   "source": [
    "def licenseKeyFormatting(S,K):\n",
    "    \n",
    "    sclean=S.replace(\"-\",\"\").upper()\n",
    "    slen=len(sclean)\n",
    "    \n",
    "    sres,sdash=slen%K,slen//K\n",
    "    if sres!=0:\n",
    "        res=sclean[:sres]\n",
    "        sclean=sclean[sres:]\n",
    "    else:\n",
    "        res=sclean[:K]\n",
    "        sdash-=1\n",
    "        sclean=sclean[K:]\n",
    "        \n",
    "    for i in range(sdash):\n",
    "        res+=\"-\"+sclean[K*i:K*(i+1)]\n",
    "    \n",
    "    return res"
   ]
  },
  {
   "cell_type": "code",
   "execution_count": 4,
   "metadata": {},
   "outputs": [
    {
     "data": {
      "text/plain": [
       "'2-5G-3J'"
      ]
     },
     "execution_count": 4,
     "metadata": {},
     "output_type": "execute_result"
    }
   ],
   "source": [
    "S = \"2-5g-3-J\"\n",
    "K = 2\n",
    "licenseKeyFormatting(S,K)"
   ]
  },
  {
   "cell_type": "code",
   "execution_count": 5,
   "metadata": {},
   "outputs": [
    {
     "data": {
      "text/plain": [
       "'5F3Z-2E9W'"
      ]
     },
     "execution_count": 5,
     "metadata": {},
     "output_type": "execute_result"
    }
   ],
   "source": [
    "S = \"5F3Z-2e-9-w\"\n",
    "K =4\n",
    "licenseKeyFormatting(S,K)"
   ]
  },
  {
   "cell_type": "code",
   "execution_count": null,
   "metadata": {},
   "outputs": [],
   "source": []
  }
 ],
 "metadata": {
  "kernelspec": {
   "display_name": "Python 3",
   "language": "python",
   "name": "python3"
  },
  "language_info": {
   "codemirror_mode": {
    "name": "ipython",
    "version": 3
   },
   "file_extension": ".py",
   "mimetype": "text/x-python",
   "name": "python",
   "nbconvert_exporter": "python",
   "pygments_lexer": "ipython3",
   "version": "3.7.5"
  }
 },
 "nbformat": 4,
 "nbformat_minor": 2
}
