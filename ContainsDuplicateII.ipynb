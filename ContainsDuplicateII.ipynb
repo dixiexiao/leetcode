{
 "cells": [
  {
   "cell_type": "markdown",
   "metadata": {},
   "source": [
    "# Contains Duplicate II"
   ]
  },
  {
   "cell_type": "markdown",
   "metadata": {},
   "source": [
    "Given an array of integers and an integer k, find out whether there are two distinct indices i and j in the array such that nums[i] = nums[j] and the absolute difference between i and j is at most k.\n",
    "\n",
    "Example 1:\n",
    "\n",
    "Input: nums = [1,2,3,1], k = 3\n",
    "Output: true\n",
    "\n",
    "    \n",
    "Example 2:\n",
    "\n",
    "Input: nums = [1,0,1,1], k = 1\n",
    "Output: true\n",
    "\n",
    "    \n",
    "Example 3:\n",
    "\n",
    "Input: nums = [1,2,3,1,2,3], k = 2\n",
    "Output: false"
   ]
  },
  {
   "cell_type": "code",
   "execution_count": 2,
   "metadata": {},
   "outputs": [],
   "source": [
    "def containsDuplicate2(nums,k):\n",
    "    mydict={}\n",
    "    idiff=0\n",
    "    if not nums:\n",
    "        return False\n",
    "    for i,n in enumerate(nums):\n",
    "        if n not in mydict:\n",
    "            mydict[n]=i\n",
    "        else:\n",
    "            idiff=i-mydict[n]\n",
    "            mydict[n]=i\n",
    "            if idiff<=k:\n",
    "                return True\n",
    "                break\n",
    "    return False"
   ]
  },
  {
   "cell_type": "code",
   "execution_count": 3,
   "metadata": {},
   "outputs": [
    {
     "data": {
      "text/plain": [
       "True"
      ]
     },
     "execution_count": 3,
     "metadata": {},
     "output_type": "execute_result"
    }
   ],
   "source": [
    "nums = [1,2,3,1] \n",
    "k = 3\n",
    "containsDuplicate2(nums,k)"
   ]
  },
  {
   "cell_type": "code",
   "execution_count": 4,
   "metadata": {},
   "outputs": [
    {
     "data": {
      "text/plain": [
       "True"
      ]
     },
     "execution_count": 4,
     "metadata": {},
     "output_type": "execute_result"
    }
   ],
   "source": [
    "nums = [1,0,1,1]\n",
    "k = 1\n",
    "containsDuplicate2(nums,k)"
   ]
  },
  {
   "cell_type": "code",
   "execution_count": 5,
   "metadata": {},
   "outputs": [
    {
     "data": {
      "text/plain": [
       "False"
      ]
     },
     "execution_count": 5,
     "metadata": {},
     "output_type": "execute_result"
    }
   ],
   "source": [
    "nums = [1,2,3,1,2,3]\n",
    "k = 2 \n",
    "containsDuplicate2(nums,k)"
   ]
  },
  {
   "cell_type": "code",
   "execution_count": null,
   "metadata": {},
   "outputs": [],
   "source": []
  }
 ],
 "metadata": {
  "kernelspec": {
   "display_name": "Python 3",
   "language": "python",
   "name": "python3"
  },
  "language_info": {
   "codemirror_mode": {
    "name": "ipython",
    "version": 3
   },
   "file_extension": ".py",
   "mimetype": "text/x-python",
   "name": "python",
   "nbconvert_exporter": "python",
   "pygments_lexer": "ipython3",
   "version": "3.7.5"
  }
 },
 "nbformat": 4,
 "nbformat_minor": 2
}
