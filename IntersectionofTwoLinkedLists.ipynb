{
 "cells": [
  {
   "cell_type": "markdown",
   "metadata": {},
   "source": [
    "# Intersection of Two Linked Lists"
   ]
  },
  {
   "cell_type": "markdown",
   "metadata": {},
   "source": [
    "Write a program to find the node at which the intersection of two singly linked lists begins.\n",
    "\n",
    "Input: intersectVal = 8, listA = [4,1,8,4,5], listB = [5,0,1,8,4,5], skipA = 2, skipB = 3\n",
    "Output: Reference of the node with value = 8\n",
    "Input Explanation: The intersected node's value is 8 (note that this must not be 0 if the two lists intersect). From the head of A, it reads as [4,1,8,4,5]. From the head of B, it reads as [5,0,1,8,4,5]. There are 2 nodes before the intersected node in A; There are 3 nodes before the intersected node in B.\n",
    "\n",
    "Notes:\n",
    "\n",
    "If the two linked lists have no intersection at all, return null.\n",
    "\n",
    "The linked lists must retain their original structure after the function returns.\n",
    "\n",
    "You may assume there are no cycles anywhere in the entire linked structure.\n",
    "\n",
    "Your code should preferably run in O(n) time and use only O(1) memory."
   ]
  },
  {
   "cell_type": "code",
   "execution_count": 3,
   "metadata": {},
   "outputs": [
    {
     "ename": "IndentationError",
     "evalue": "unexpected indent (<ipython-input-3-d6c1ca936462>, line 13)",
     "output_type": "error",
     "traceback": [
      "\u001b[1;36m  File \u001b[1;32m\"<ipython-input-3-d6c1ca936462>\"\u001b[1;36m, line \u001b[1;32m13\u001b[0m\n\u001b[1;33m    def getIntersectionNode(self, headA, headB):\u001b[0m\n\u001b[1;37m    ^\u001b[0m\n\u001b[1;31mIndentationError\u001b[0m\u001b[1;31m:\u001b[0m unexpected indent\n"
     ]
    }
   ],
   "source": [
    "# Definition for singly-linked list.\n",
    "# class ListNode(object):\n",
    "#     def __init__(self, x):\n",
    "#         self.val = x\n",
    "#         self.next = None\n",
    "\n",
    "class Solution(object):\n",
    "    def getIntersectionNode(self, headA, headB):\n",
    "        \"\"\"\n",
    "        :type head1, head1: ListNode\n",
    "        :rtype: ListNode\n",
    "       \"\"\"\n",
    "        \n",
    "        ptr1 = headA\n",
    "        ptr2 = headB\n",
    "        \n",
    "        len1, len2 = 0, 0\n",
    "        \n",
    "        # Obtaining length of the 2 LLs\n",
    "        while ptr1:\n",
    "            len1 += 1\n",
    "            ptr1 = ptr1.next\n",
    "            \n",
    "        while ptr2:\n",
    "            len2 += 1\n",
    "            \n",
    "            ptr2 = ptr2.next\n",
    "            \n",
    "        \n",
    "        #print(len1, len2)\n",
    "        \n",
    "        # Reassigning as we have already traversed the two LLs\n",
    "        \n",
    "        \n",
    "        ptr1 = headA\n",
    "        ptr2 = headB\n",
    "        \n",
    "        # We will find the diff between the lengths of the 2 linked lists. We will move the pointer for the longer linked list by dif value. By doing this we ensure that both the pointers will have to travel the same distance to reach their respective ends. Now we will increment both pointers by 1 each time and check if their value is the same for each increment. If the values are the same, that means we have reached the node where the two linked lists are intersecting. So in the end, we can simply return the value of any of the 2 pointers which will indicate the node of intersection.\n",
    "\n",
    "        \n",
    "        if len1>len2:\n",
    "            dif = len1 - len2\n",
    "            for i in  range (0, dif):\n",
    "                ptr1 = ptr1.next\n",
    "                \n",
    "        else : #len2>len1:\n",
    "            dif = len2 - len1\n",
    "            for i in range(0, dif):\n",
    "                ptr2 = ptr2.next\n",
    "                \n",
    "        while ptr1 != ptr2 :\n",
    "            ptr1 = ptr1.next\n",
    "            ptr2 = ptr2.next\n",
    "            \n",
    "        return ptr1"
   ]
  },
  {
   "cell_type": "code",
   "execution_count": null,
   "metadata": {},
   "outputs": [],
   "source": []
  }
 ],
 "metadata": {
  "kernelspec": {
   "display_name": "Python 3",
   "language": "python",
   "name": "python3"
  },
  "language_info": {
   "codemirror_mode": {
    "name": "ipython",
    "version": 3
   },
   "file_extension": ".py",
   "mimetype": "text/x-python",
   "name": "python",
   "nbconvert_exporter": "python",
   "pygments_lexer": "ipython3",
   "version": "3.7.5"
  }
 },
 "nbformat": 4,
 "nbformat_minor": 2
}
