{
 "cells": [
  {
   "cell_type": "markdown",
   "metadata": {},
   "source": [
    "# Happy number"
   ]
  },
  {
   "cell_type": "markdown",
   "metadata": {},
   "source": [
    "Write an algorithm to determine if a number is \"happy\".\n",
    "\n",
    "A happy number is a number defined by the following process: Starting with any positive integer, replace the number by the sum of the squares of its digits, and repeat the process until the number equals 1 (where it will stay), or it loops endlessly in a cycle which does not include 1. Those numbers for which this process ends in 1 are happy numbers.\n"
   ]
  },
  {
   "cell_type": "code",
   "execution_count": 30,
   "metadata": {},
   "outputs": [],
   "source": [
    "def isHappy(n):\n",
    "    happy=n\n",
    "    checkhappy=[]\n",
    "    while happy!=1:\n",
    "        digit=len(str(happy))\n",
    "        if digit>1:\n",
    "            ndigits=[]\n",
    "            for i in range(digit):\n",
    "                tempd=happy%10\n",
    "                ndigits.append(tempd)\n",
    "                happy=int(happy/10)\n",
    "            \n",
    "            happy=0\n",
    "            for j in ndigits:\n",
    "                happy+=j*j\n",
    "            \n",
    "        else:\n",
    "            \n",
    "            if happy in checkhappy:\n",
    "                print('dead end loop. not a happy number.')\n",
    "                break\n",
    "            checkhappy.append(happy)\n",
    "            happy=happy**2\n",
    "            print(\"happy is\",happy)"
   ]
  },
  {
   "cell_type": "code",
   "execution_count": 31,
   "metadata": {},
   "outputs": [
    {
     "name": "stdout",
     "output_type": "stream",
     "text": [
      "0 [5, 4, 1]\n",
      "happy is 42\n",
      "0 [2, 4]\n",
      "happy is 20\n",
      "0 [0, 2]\n",
      "happy is 4\n",
      "happy is 16\n",
      "0 [6, 1]\n",
      "happy is 37\n",
      "0 [7, 3]\n",
      "happy is 58\n",
      "0 [8, 5]\n",
      "happy is 89\n",
      "0 [9, 8]\n",
      "happy is 145\n",
      "0 [5, 4, 1]\n",
      "happy is 42\n",
      "0 [2, 4]\n",
      "happy is 20\n",
      "0 [0, 2]\n",
      "happy is 4\n",
      "dead end loop. not a happy number.\n"
     ]
    }
   ],
   "source": [
    "isHappy(145)"
   ]
  },
  {
   "cell_type": "code",
   "execution_count": 32,
   "metadata": {},
   "outputs": [],
   "source": [
    "def isHappy2(n):\n",
    "    if n==1:\n",
    "        return true\n",
    "    slow=sum([int(c)*int(c) for c in str(n)])\n",
    "    print(slow)\n",
    "    fast=sum([int(c)*int(c) for c in str(slow)])\n",
    "    print(fast)\n",
    "    while fast!=slow:\n",
    "        slow=sum([int(c)*int(c) for c in str(slow)])\n",
    "        fast=sum([int(c)*int(c) for c in str(fast)])\n",
    "        fast=sum([int(c)*int(c) for c in str(fast)])\n",
    "        print(fast)\n",
    "    return slow==1\n",
    "\n",
    "        \n",
    "    "
   ]
  },
  {
   "cell_type": "code",
   "execution_count": 33,
   "metadata": {},
   "outputs": [
    {
     "name": "stdout",
     "output_type": "stream",
     "text": [
      "42\n",
      "20\n",
      "16\n",
      "58\n",
      "145\n",
      "20\n",
      "16\n",
      "58\n",
      "145\n"
     ]
    },
    {
     "data": {
      "text/plain": [
       "False"
      ]
     },
     "execution_count": 33,
     "metadata": {},
     "output_type": "execute_result"
    }
   ],
   "source": [
    "isHappy2(145)"
   ]
  },
  {
   "cell_type": "code",
   "execution_count": null,
   "metadata": {},
   "outputs": [],
   "source": []
  }
 ],
 "metadata": {
  "kernelspec": {
   "display_name": "Python 3",
   "language": "python",
   "name": "python3"
  },
  "language_info": {
   "codemirror_mode": {
    "name": "ipython",
    "version": 3
   },
   "file_extension": ".py",
   "mimetype": "text/x-python",
   "name": "python",
   "nbconvert_exporter": "python",
   "pygments_lexer": "ipython3",
   "version": "3.7.5"
  }
 },
 "nbformat": 4,
 "nbformat_minor": 2
}
