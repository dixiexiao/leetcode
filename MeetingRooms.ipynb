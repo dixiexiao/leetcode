{
 "cells": [
  {
   "cell_type": "markdown",
   "metadata": {},
   "source": [
    "# Meeting Rooms"
   ]
  },
  {
   "cell_type": "markdown",
   "metadata": {},
   "source": [
    "Given an array of meeting time intervals consisting of start and end times\n",
    "[[s1,e1],[s2,e2],...] (si < ei), determine if a person could attend all meetings.\n",
    "\n",
    "Example 1:\n",
    "Input: [[0,30],[5,10],[15,20]]\n",
    "Output: false\n",
    "\n",
    "Example 2:\n",
    "Input: [[7,10],[2,4]]\n",
    "Output: true"
   ]
  },
  {
   "cell_type": "code",
   "execution_count": null,
   "metadata": {},
   "outputs": [],
   "source": [
    "\"\"\"\n",
    "Algorithm: Sorting\n",
    "1. Sort array by interval start times\n",
    "2. If array[i].start < array[i-1].end: return false\n",
    "3. Return true\n",
    "T: O(nlogn)\n",
    "S: O(1)\n",
    "\"\"\"\n",
    "\n",
    "class Interval:\n",
    "    def __init__(self, s=0, e=0):\n",
    "        self.start = s\n",
    "        self.end = e\n",
    "\n",
    "def canAttendMeetings(intervals):\n",
    "    # list.sort() sort intervals in-place\n",
    "    intervals.sort(key=lambda x: x.start)\n",
    "    \n",
    "    for i in range(1, len(intervals)):\n",
    "        # allow duplicate time, use less rather than less and equal\n",
    "        if intervals[i].start < intervals[i-1].end:\n",
    "            return False\n",
    "\n",
    "    return True\n"
   ]
  }
 ],
 "metadata": {
  "kernelspec": {
   "display_name": "Python 3",
   "language": "python",
   "name": "python3"
  },
  "language_info": {
   "codemirror_mode": {
    "name": "ipython",
    "version": 3
   },
   "file_extension": ".py",
   "mimetype": "text/x-python",
   "name": "python",
   "nbconvert_exporter": "python",
   "pygments_lexer": "ipython3",
   "version": "3.7.5"
  }
 },
 "nbformat": 4,
 "nbformat_minor": 2
}
