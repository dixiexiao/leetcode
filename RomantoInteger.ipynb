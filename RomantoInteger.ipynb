{
 "cells": [
  {
   "cell_type": "markdown",
   "metadata": {},
   "source": [
    "# Roman to Integer"
   ]
  },
  {
   "cell_type": "code",
   "execution_count": 1,
   "metadata": {},
   "outputs": [],
   "source": [
    "def romanToInt(s):\n",
    "    d = {'I': 1, 'V': 5, 'X': 10, 'L': 50, 'C': 100, 'D': 500, 'M': 1000}\n",
    "        \n",
    "    ssum = 0\n",
    "    i = 1\n",
    "    flag = 1\n",
    "        \n",
    "    while i <= len(s) - 1:\n",
    "        if d[s[i - 1]] < d[s[i]]:\n",
    "            if i == len(s) - 1:\n",
    "                flag = 0\n",
    "            ssum = ssum + (d[s[i]] - d[s[i - 1]])\n",
    "            i += 2\n",
    "        else:\n",
    "            ssum = ssum + d[s[i - 1]]\n",
    "            i += 1\n",
    "\n",
    "    return ssum + flag*d[s[-1]]\n",
    "\n",
    "        "
   ]
  },
  {
   "cell_type": "code",
   "execution_count": 2,
   "metadata": {},
   "outputs": [
    {
     "name": "stdout",
     "output_type": "stream",
     "text": [
      "14\n"
     ]
    }
   ],
   "source": [
    "s=\"IXIIV\"\n",
    "print(romanToInt(s))"
   ]
  },
  {
   "cell_type": "code",
   "execution_count": null,
   "metadata": {},
   "outputs": [],
   "source": []
  }
 ],
 "metadata": {
  "kernelspec": {
   "display_name": "Python 3",
   "language": "python",
   "name": "python3"
  },
  "language_info": {
   "codemirror_mode": {
    "name": "ipython",
    "version": 3
   },
   "file_extension": ".py",
   "mimetype": "text/x-python",
   "name": "python",
   "nbconvert_exporter": "python",
   "pygments_lexer": "ipython3",
   "version": "3.7.5"
  }
 },
 "nbformat": 4,
 "nbformat_minor": 2
}
