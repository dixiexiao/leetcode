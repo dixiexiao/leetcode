{
 "cells": [
  {
   "cell_type": "markdown",
   "metadata": {},
   "source": [
    "# Number of Boomerangs"
   ]
  },
  {
   "cell_type": "markdown",
   "metadata": {},
   "source": [
    "Given n points in the plane that are all pairwise distinct, a \"boomerang\" is a tuple of points (i, j, k) such that the distance between i and j equals the distance between i and k (the order of the tuple matters).\n",
    "\n",
    "Find the number of boomerangs. You may assume that n will be at most 500 and coordinates of points are all in the range [-10000, 10000] (inclusive).\n",
    "\n",
    "Example:\n",
    "\n",
    "Input:\n",
    "[[0,0],[1,0],[2,0]]\n",
    "\n",
    "Output:\n",
    "2\n",
    "\n",
    "Explanation:\n",
    "The two boomerangs are [[1,0],[0,0],[2,0]] and [[1,0],[2,0],[0,0]]"
   ]
  },
  {
   "cell_type": "code",
   "execution_count": 30,
   "metadata": {},
   "outputs": [],
   "source": [
    "def numberOfBoomerangs(points):\n",
    "    res = 0\n",
    "    \n",
    "    for i in range(len(points)):\n",
    "    \n",
    "        c = {}\n",
    "            \n",
    "        for j in range(len(points)):\n",
    "            \n",
    "            if i ==j:\n",
    "                continue\n",
    "            \n",
    "            l2 = (points[i][0]-points[j][0])**2 + (points[i][1]-points[j][1])**2\n",
    "            \n",
    "            if l2 not in c:\n",
    "                c[l2]= 1\n",
    "            else:\n",
    "                c[l2]+=1\n",
    "                \n",
    "        for key,value in c.items():\n",
    "            print(value)\n",
    "            res+= value*(value-1)\n",
    "                \n",
    "    return res"
   ]
  },
  {
   "cell_type": "code",
   "execution_count": 31,
   "metadata": {},
   "outputs": [
    {
     "name": "stdout",
     "output_type": "stream",
     "text": [
      "4\n",
      "1\n",
      "1\n",
      "2\n",
      "1\n",
      "1\n",
      "2\n",
      "1\n",
      "2\n",
      "1\n",
      "1\n",
      "2\n",
      "1\n"
     ]
    },
    {
     "data": {
      "text/plain": [
       "20"
      ]
     },
     "execution_count": 31,
     "metadata": {},
     "output_type": "execute_result"
    }
   ],
   "source": [
    "points=[[0,0],[1,0],[-1,0],[0,1],[0,-1]]\n",
    "numberOfBoomerangs(points)"
   ]
  },
  {
   "cell_type": "code",
   "execution_count": null,
   "metadata": {},
   "outputs": [],
   "source": [
    "def numberOfBoomerangs2(points) -> int:\n",
    "    res=0\n",
    "    for i in range(len(points)):\n",
    "        dic={}\n",
    "        for j in range(len(points)):\n",
    "            if i ==j:\n",
    "                continue\n",
    "            d = get_distance(points[i],points[j])\n",
    "            if d not in dic:\n",
    "                dic[d] =1\n",
    "            else:\n",
    "                dic[d] +=1\n",
    "            for key,value in dic.items():\n",
    "                print(value)\n",
    "                res = value *(value-1) + res\n",
    "        return res"
   ]
  }
 ],
 "metadata": {
  "kernelspec": {
   "display_name": "Python 3",
   "language": "python",
   "name": "python3"
  },
  "language_info": {
   "codemirror_mode": {
    "name": "ipython",
    "version": 3
   },
   "file_extension": ".py",
   "mimetype": "text/x-python",
   "name": "python",
   "nbconvert_exporter": "python",
   "pygments_lexer": "ipython3",
   "version": "3.7.5"
  }
 },
 "nbformat": 4,
 "nbformat_minor": 2
}
