{
 "cells": [
  {
   "cell_type": "markdown",
   "metadata": {},
   "source": [
    "# Palindrome Permutation"
   ]
  },
  {
   "cell_type": "markdown",
   "metadata": {},
   "source": [
    "Given a string, determine if a permutation of the string could form a palindrome.\n",
    "\n",
    "Example 1:\n",
    "\n",
    "Input: \"code\"\n",
    "Output: false\n",
    "\n",
    "Example 2:\n",
    "\n",
    "Input: \"aab\"\n",
    "Output: true\n",
    "\n",
    "Example 3:\n",
    "\n",
    "Input: \"carerac\"\n",
    "Output: true\n",
    "\n",
    "Hint:\n",
    "\n",
    "Consider the palindromes of odd vs even length. What difference do you notice?\n",
    "\n",
    "Count the frequency of each character.\n",
    "\n",
    "If each character occurs even number of times, then it must be a palindrome. How about character which occurs odd number of times?\n",
    " "
   ]
  },
  {
   "cell_type": "code",
   "execution_count": 2,
   "metadata": {},
   "outputs": [],
   "source": [
    "def canPermutePalindrome(s):\n",
    "    mydict={}\n",
    "    \n",
    "    for c in s:\n",
    "        if c not in mydict:\n",
    "            mydict[c]=1\n",
    "        else:\n",
    "            del mydict[c]\n",
    "    \n",
    "    if len(mydict)<2:\n",
    "        return True\n",
    "    else: return False"
   ]
  },
  {
   "cell_type": "code",
   "execution_count": 3,
   "metadata": {},
   "outputs": [
    {
     "data": {
      "text/plain": [
       "True"
      ]
     },
     "execution_count": 3,
     "metadata": {},
     "output_type": "execute_result"
    }
   ],
   "source": [
    "s=\"carerac\"\n",
    "canPermutePalindrome(s)"
   ]
  },
  {
   "cell_type": "code",
   "execution_count": null,
   "metadata": {},
   "outputs": [],
   "source": []
  }
 ],
 "metadata": {
  "kernelspec": {
   "display_name": "Python 3",
   "language": "python",
   "name": "python3"
  },
  "language_info": {
   "codemirror_mode": {
    "name": "ipython",
    "version": 3
   },
   "file_extension": ".py",
   "mimetype": "text/x-python",
   "name": "python",
   "nbconvert_exporter": "python",
   "pygments_lexer": "ipython3",
   "version": "3.7.5"
  }
 },
 "nbformat": 4,
 "nbformat_minor": 2
}
